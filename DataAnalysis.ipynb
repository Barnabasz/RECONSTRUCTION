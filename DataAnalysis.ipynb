{
 "cells": [
  {
   "cell_type": "code",
   "execution_count": 33,
   "metadata": {},
   "outputs": [],
   "source": [
    "import pandas as pd\n",
    "import numpy as np\n",
    "import matplotlib.pyplot as plt"
   ]
  },
  {
   "cell_type": "code",
   "execution_count": 34,
   "metadata": {},
   "outputs": [
    {
     "data": {
      "text/html": [
       "<div>\n",
       "<style scoped>\n",
       "    .dataframe tbody tr th:only-of-type {\n",
       "        vertical-align: middle;\n",
       "    }\n",
       "\n",
       "    .dataframe tbody tr th {\n",
       "        vertical-align: top;\n",
       "    }\n",
       "\n",
       "    .dataframe thead th {\n",
       "        text-align: right;\n",
       "    }\n",
       "</style>\n",
       "<table border=\"1\" class=\"dataframe\">\n",
       "  <thead>\n",
       "    <tr style=\"text-align: right;\">\n",
       "      <th></th>\n",
       "      <th>track_charge</th>\n",
       "      <th>track_chi2</th>\n",
       "      <th>track_chi2PerDoF</th>\n",
       "      <th>track_nLHCbIDs</th>\n",
       "      <th>track_p</th>\n",
       "      <th>track_phi</th>\n",
       "      <th>track_position_phi</th>\n",
       "      <th>track_position_r</th>\n",
       "      <th>track_position_x</th>\n",
       "      <th>track_position_y</th>\n",
       "      <th>track_pt</th>\n",
       "      <th>track_tx</th>\n",
       "      <th>track_ty</th>\n",
       "      <th>track_pseudoRapidity</th>\n",
       "      <th>particle_isDown</th>\n",
       "      <th>particle_isDown_noVelo</th>\n",
       "    </tr>\n",
       "  </thead>\n",
       "  <tbody>\n",
       "    <tr>\n",
       "      <th>0</th>\n",
       "      <td>-1.0</td>\n",
       "      <td>6.275086</td>\n",
       "      <td>0.896441</td>\n",
       "      <td>12.0</td>\n",
       "      <td>2020.072174</td>\n",
       "      <td>2.849378</td>\n",
       "      <td>1.156534</td>\n",
       "      <td>7599.958646</td>\n",
       "      <td>494.515198</td>\n",
       "      <td>1124.644897</td>\n",
       "      <td>682.012956</td>\n",
       "      <td>-0.343474</td>\n",
       "      <td>0.103326</td>\n",
       "      <td>1.749189</td>\n",
       "      <td>1.0</td>\n",
       "      <td>0.0</td>\n",
       "    </tr>\n",
       "    <tr>\n",
       "      <th>1</th>\n",
       "      <td>-1.0</td>\n",
       "      <td>1.360128</td>\n",
       "      <td>0.194304</td>\n",
       "      <td>12.0</td>\n",
       "      <td>3841.771978</td>\n",
       "      <td>-3.082239</td>\n",
       "      <td>-3.011232</td>\n",
       "      <td>7578.755154</td>\n",
       "      <td>-1080.491943</td>\n",
       "      <td>-141.657471</td>\n",
       "      <td>1299.941130</td>\n",
       "      <td>-0.358948</td>\n",
       "      <td>-0.021330</td>\n",
       "      <td>1.746825</td>\n",
       "      <td>1.0</td>\n",
       "      <td>0.0</td>\n",
       "    </tr>\n",
       "    <tr>\n",
       "      <th>2</th>\n",
       "      <td>1.0</td>\n",
       "      <td>1.228229</td>\n",
       "      <td>0.204705</td>\n",
       "      <td>11.0</td>\n",
       "      <td>11831.335600</td>\n",
       "      <td>-0.011027</td>\n",
       "      <td>-0.021707</td>\n",
       "      <td>7503.689479</td>\n",
       "      <td>235.222702</td>\n",
       "      <td>-5.106698</td>\n",
       "      <td>1137.754221</td>\n",
       "      <td>0.096606</td>\n",
       "      <td>-0.001065</td>\n",
       "      <td>3.032522</td>\n",
       "      <td>0.0</td>\n",
       "      <td>0.0</td>\n",
       "    </tr>\n",
       "    <tr>\n",
       "      <th>3</th>\n",
       "      <td>-1.0</td>\n",
       "      <td>1.397992</td>\n",
       "      <td>0.349498</td>\n",
       "      <td>9.0</td>\n",
       "      <td>1982.935289</td>\n",
       "      <td>3.105371</td>\n",
       "      <td>2.717953</td>\n",
       "      <td>7505.289515</td>\n",
       "      <td>-256.822998</td>\n",
       "      <td>115.813004</td>\n",
       "      <td>803.347165</td>\n",
       "      <td>-0.442834</td>\n",
       "      <td>0.016047</td>\n",
       "      <td>1.552877</td>\n",
       "      <td>0.0</td>\n",
       "      <td>0.0</td>\n",
       "    </tr>\n",
       "    <tr>\n",
       "      <th>4</th>\n",
       "      <td>-1.0</td>\n",
       "      <td>1.731246</td>\n",
       "      <td>0.288541</td>\n",
       "      <td>11.0</td>\n",
       "      <td>6950.099982</td>\n",
       "      <td>-3.125277</td>\n",
       "      <td>-3.044312</td>\n",
       "      <td>7512.987296</td>\n",
       "      <td>-439.475525</td>\n",
       "      <td>-42.887833</td>\n",
       "      <td>1167.325690</td>\n",
       "      <td>-0.170356</td>\n",
       "      <td>-0.002780</td>\n",
       "      <td>2.470060</td>\n",
       "      <td>0.0</td>\n",
       "      <td>0.0</td>\n",
       "    </tr>\n",
       "  </tbody>\n",
       "</table>\n",
       "</div>"
      ],
      "text/plain": [
       "   track_charge  track_chi2  track_chi2PerDoF  track_nLHCbIDs       track_p  \\\n",
       "0          -1.0    6.275086          0.896441            12.0   2020.072174   \n",
       "1          -1.0    1.360128          0.194304            12.0   3841.771978   \n",
       "2           1.0    1.228229          0.204705            11.0  11831.335600   \n",
       "3          -1.0    1.397992          0.349498             9.0   1982.935289   \n",
       "4          -1.0    1.731246          0.288541            11.0   6950.099982   \n",
       "\n",
       "   track_phi  track_position_phi  track_position_r  track_position_x  \\\n",
       "0   2.849378            1.156534       7599.958646        494.515198   \n",
       "1  -3.082239           -3.011232       7578.755154      -1080.491943   \n",
       "2  -0.011027           -0.021707       7503.689479        235.222702   \n",
       "3   3.105371            2.717953       7505.289515       -256.822998   \n",
       "4  -3.125277           -3.044312       7512.987296       -439.475525   \n",
       "\n",
       "   track_position_y     track_pt  track_tx  track_ty  track_pseudoRapidity  \\\n",
       "0       1124.644897   682.012956 -0.343474  0.103326              1.749189   \n",
       "1       -141.657471  1299.941130 -0.358948 -0.021330              1.746825   \n",
       "2         -5.106698  1137.754221  0.096606 -0.001065              3.032522   \n",
       "3        115.813004   803.347165 -0.442834  0.016047              1.552877   \n",
       "4        -42.887833  1167.325690 -0.170356 -0.002780              2.470060   \n",
       "\n",
       "   particle_isDown  particle_isDown_noVelo  \n",
       "0              1.0                     0.0  \n",
       "1              1.0                     0.0  \n",
       "2              0.0                     0.0  \n",
       "3              0.0                     0.0  \n",
       "4              0.0                     0.0  "
      ]
     },
     "execution_count": 34,
     "metadata": {},
     "output_type": "execute_result"
    }
   ],
   "source": [
    "train_data_file = \"~/data2.csv\"\n",
    "data = pd.read_csv(train_data_file)\n",
    "features = data.drop([\"Unnamed: 0\", \"eventID\", \"track_particle_key\", \"track_position_z\", \"track_ghostProbability\"] , axis=1).astype(np.float64)\n",
    "\n",
    "features.head()"
   ]
  },
  {
   "cell_type": "code",
   "execution_count": 35,
   "metadata": {},
   "outputs": [
    {
     "name": "stdout",
     "output_type": "stream",
     "text": [
      "157485\n"
     ]
    }
   ],
   "source": [
    "print(len(features))"
   ]
  },
  {
   "cell_type": "code",
   "execution_count": 38,
   "metadata": {},
   "outputs": [
    {
     "name": "stdout",
     "output_type": "stream",
     "text": [
      "88988 45988\n"
     ]
    }
   ],
   "source": [
    "featuresTAll = features[(features.particle_isDown == 1) & (features.particle_isDown_noVelo == 0)].drop([\"particle_isDown_noVelo\", \"particle_isDown\"], axis = 1)\n",
    "featuresFAll = features[(features.particle_isDown == 0)].drop([\"particle_isDown_noVelo\", \"particle_isDown\"], axis = 1)\n",
    "\n",
    "if len(featuresTAll) < len(featuresFAll) :\n",
    "    featuresT = featuresTAll\n",
    "    featuresF = featuresFAll.sample(len(featuresT))\n",
    "else:\n",
    "    featuresT = featuresTAll.sample(len(featuresF))\n",
    "    featuresF = featuresFAll\n",
    "\n",
    "print(len(featuresTAll),len(featuresFAll))"
   ]
  },
  {
   "cell_type": "code",
   "execution_count": 5,
   "metadata": {},
   "outputs": [],
   "source": [
    "def drawPlot(coll, binsnum, xmax = None, xmin = 0):\n",
    "    T = featuresT[coll].values\n",
    "    F = featuresF[coll].values\n",
    "    if xmax != None:\n",
    "        plt.hist(T, bins = binsnum, alpha=0.5, label='T', range = (xmin, xmax))\n",
    "        plt.hist(F, bins = binsnum, alpha=0.5, label='F', range = (xmin, xmax))\n",
    "    else:\n",
    "        plt.hist(T, bins = binsnum, alpha=0.5, label='T')\n",
    "        plt.hist(F, bins = binsnum, alpha=0.5, label='F')\n",
    "    plt.legend(loc='upper right')\n",
    "    plt.title(coll)\n",
    "    plt.show()"
   ]
  },
  {
   "cell_type": "code",
   "execution_count": 6,
   "metadata": {},
   "outputs": [
    {
     "data": {
      "text/html": [
       "<div>\n",
       "<style scoped>\n",
       "    .dataframe tbody tr th:only-of-type {\n",
       "        vertical-align: middle;\n",
       "    }\n",
       "\n",
       "    .dataframe tbody tr th {\n",
       "        vertical-align: top;\n",
       "    }\n",
       "\n",
       "    .dataframe thead th {\n",
       "        text-align: right;\n",
       "    }\n",
       "</style>\n",
       "<table border=\"1\" class=\"dataframe\">\n",
       "  <thead>\n",
       "    <tr style=\"text-align: right;\">\n",
       "      <th></th>\n",
       "      <th>track_charge</th>\n",
       "      <th>track_chi2</th>\n",
       "      <th>track_chi2PerDoF</th>\n",
       "      <th>track_nLHCbIDs</th>\n",
       "      <th>track_p</th>\n",
       "      <th>track_phi</th>\n",
       "      <th>track_position_phi</th>\n",
       "      <th>track_position_r</th>\n",
       "      <th>track_position_x</th>\n",
       "      <th>track_position_y</th>\n",
       "      <th>track_pt</th>\n",
       "      <th>track_tx</th>\n",
       "      <th>track_ty</th>\n",
       "      <th>track_pseudoRapidity</th>\n",
       "      <th>particle_isDown</th>\n",
       "    </tr>\n",
       "  </thead>\n",
       "  <tbody>\n",
       "    <tr>\n",
       "      <th>51</th>\n",
       "      <td>1.0</td>\n",
       "      <td>9.795560</td>\n",
       "      <td>1.632593</td>\n",
       "      <td>11.0</td>\n",
       "      <td>10435.038530</td>\n",
       "      <td>-0.967692</td>\n",
       "      <td>-1.697222</td>\n",
       "      <td>7533.204561</td>\n",
       "      <td>-89.084892</td>\n",
       "      <td>-700.881470</td>\n",
       "      <td>1159.610043</td>\n",
       "      <td>0.063424</td>\n",
       "      <td>-0.092092</td>\n",
       "      <td>2.887131</td>\n",
       "      <td>1.0</td>\n",
       "    </tr>\n",
       "    <tr>\n",
       "      <th>54</th>\n",
       "      <td>-1.0</td>\n",
       "      <td>4.108515</td>\n",
       "      <td>0.586931</td>\n",
       "      <td>12.0</td>\n",
       "      <td>3048.193672</td>\n",
       "      <td>3.098945</td>\n",
       "      <td>2.991682</td>\n",
       "      <td>7564.441325</td>\n",
       "      <td>-974.227478</td>\n",
       "      <td>147.150864</td>\n",
       "      <td>1154.348326</td>\n",
       "      <td>-0.408802</td>\n",
       "      <td>0.017445</td>\n",
       "      <td>1.626209</td>\n",
       "      <td>1.0</td>\n",
       "    </tr>\n",
       "    <tr>\n",
       "      <th>81</th>\n",
       "      <td>1.0</td>\n",
       "      <td>2.679403</td>\n",
       "      <td>0.382772</td>\n",
       "      <td>12.0</td>\n",
       "      <td>3247.641630</td>\n",
       "      <td>0.018973</td>\n",
       "      <td>0.085211</td>\n",
       "      <td>7529.146607</td>\n",
       "      <td>659.451050</td>\n",
       "      <td>56.328819</td>\n",
       "      <td>1031.584935</td>\n",
       "      <td>0.334930</td>\n",
       "      <td>0.006355</td>\n",
       "      <td>1.813744</td>\n",
       "      <td>1.0</td>\n",
       "    </tr>\n",
       "    <tr>\n",
       "      <th>82</th>\n",
       "      <td>-1.0</td>\n",
       "      <td>1.694528</td>\n",
       "      <td>0.282421</td>\n",
       "      <td>11.0</td>\n",
       "      <td>3307.302934</td>\n",
       "      <td>3.126251</td>\n",
       "      <td>3.089524</td>\n",
       "      <td>7583.350743</td>\n",
       "      <td>-1119.733521</td>\n",
       "      <td>58.355282</td>\n",
       "      <td>1242.110855</td>\n",
       "      <td>-0.405183</td>\n",
       "      <td>0.006217</td>\n",
       "      <td>1.635179</td>\n",
       "      <td>1.0</td>\n",
       "    </tr>\n",
       "    <tr>\n",
       "      <th>87</th>\n",
       "      <td>-1.0</td>\n",
       "      <td>1.243228</td>\n",
       "      <td>0.177604</td>\n",
       "      <td>12.0</td>\n",
       "      <td>2656.758174</td>\n",
       "      <td>3.110193</td>\n",
       "      <td>1.988466</td>\n",
       "      <td>7501.867569</td>\n",
       "      <td>-67.895752</td>\n",
       "      <td>152.994095</td>\n",
       "      <td>765.697081</td>\n",
       "      <td>-0.300830</td>\n",
       "      <td>0.009449</td>\n",
       "      <td>1.915778</td>\n",
       "      <td>1.0</td>\n",
       "    </tr>\n",
       "  </tbody>\n",
       "</table>\n",
       "</div>"
      ],
      "text/plain": [
       "    track_charge  track_chi2  track_chi2PerDoF  track_nLHCbIDs       track_p  \\\n",
       "51           1.0    9.795560          1.632593            11.0  10435.038530   \n",
       "54          -1.0    4.108515          0.586931            12.0   3048.193672   \n",
       "81           1.0    2.679403          0.382772            12.0   3247.641630   \n",
       "82          -1.0    1.694528          0.282421            11.0   3307.302934   \n",
       "87          -1.0    1.243228          0.177604            12.0   2656.758174   \n",
       "\n",
       "    track_phi  track_position_phi  track_position_r  track_position_x  \\\n",
       "51  -0.967692           -1.697222       7533.204561        -89.084892   \n",
       "54   3.098945            2.991682       7564.441325       -974.227478   \n",
       "81   0.018973            0.085211       7529.146607        659.451050   \n",
       "82   3.126251            3.089524       7583.350743      -1119.733521   \n",
       "87   3.110193            1.988466       7501.867569        -67.895752   \n",
       "\n",
       "    track_position_y     track_pt  track_tx  track_ty  track_pseudoRapidity  \\\n",
       "51       -700.881470  1159.610043  0.063424 -0.092092              2.887131   \n",
       "54        147.150864  1154.348326 -0.408802  0.017445              1.626209   \n",
       "81         56.328819  1031.584935  0.334930  0.006355              1.813744   \n",
       "82         58.355282  1242.110855 -0.405183  0.006217              1.635179   \n",
       "87        152.994095   765.697081 -0.300830  0.009449              1.915778   \n",
       "\n",
       "    particle_isDown  \n",
       "51              1.0  \n",
       "54              1.0  \n",
       "81              1.0  \n",
       "82              1.0  \n",
       "87              1.0  "
      ]
     },
     "execution_count": 6,
     "metadata": {},
     "output_type": "execute_result"
    }
   ],
   "source": [
    "featuresT.head(5)"
   ]
  },
  {
   "cell_type": "code",
   "execution_count": 7,
   "metadata": {},
   "outputs": [
    {
     "data": {
      "text/html": [
       "<div>\n",
       "<style scoped>\n",
       "    .dataframe tbody tr th:only-of-type {\n",
       "        vertical-align: middle;\n",
       "    }\n",
       "\n",
       "    .dataframe tbody tr th {\n",
       "        vertical-align: top;\n",
       "    }\n",
       "\n",
       "    .dataframe thead th {\n",
       "        text-align: right;\n",
       "    }\n",
       "</style>\n",
       "<table border=\"1\" class=\"dataframe\">\n",
       "  <thead>\n",
       "    <tr style=\"text-align: right;\">\n",
       "      <th></th>\n",
       "      <th>track_charge</th>\n",
       "      <th>track_chi2</th>\n",
       "      <th>track_chi2PerDoF</th>\n",
       "      <th>track_nLHCbIDs</th>\n",
       "      <th>track_p</th>\n",
       "      <th>track_phi</th>\n",
       "      <th>track_position_phi</th>\n",
       "      <th>track_position_r</th>\n",
       "      <th>track_position_x</th>\n",
       "      <th>track_position_y</th>\n",
       "      <th>track_pt</th>\n",
       "      <th>track_tx</th>\n",
       "      <th>track_ty</th>\n",
       "      <th>track_pseudoRapidity</th>\n",
       "      <th>particle_isDown</th>\n",
       "    </tr>\n",
       "  </thead>\n",
       "  <tbody>\n",
       "    <tr>\n",
       "      <th>59643</th>\n",
       "      <td>1.0</td>\n",
       "      <td>9.587655</td>\n",
       "      <td>1.369665</td>\n",
       "      <td>12.0</td>\n",
       "      <td>25970.632245</td>\n",
       "      <td>-0.302944</td>\n",
       "      <td>-0.620018</td>\n",
       "      <td>7502.604740</td>\n",
       "      <td>160.886444</td>\n",
       "      <td>-114.862663</td>\n",
       "      <td>1358.483930</td>\n",
       "      <td>0.049995</td>\n",
       "      <td>-0.015627</td>\n",
       "      <td>3.643059</td>\n",
       "      <td>1.0</td>\n",
       "    </tr>\n",
       "    <tr>\n",
       "      <th>5930</th>\n",
       "      <td>1.0</td>\n",
       "      <td>1.495675</td>\n",
       "      <td>0.249279</td>\n",
       "      <td>11.0</td>\n",
       "      <td>15212.508819</td>\n",
       "      <td>0.252898</td>\n",
       "      <td>0.463829</td>\n",
       "      <td>7515.511777</td>\n",
       "      <td>431.624878</td>\n",
       "      <td>215.910248</td>\n",
       "      <td>1709.491675</td>\n",
       "      <td>0.109493</td>\n",
       "      <td>0.028296</td>\n",
       "      <td>2.875897</td>\n",
       "      <td>1.0</td>\n",
       "    </tr>\n",
       "    <tr>\n",
       "      <th>98685</th>\n",
       "      <td>-1.0</td>\n",
       "      <td>1.961287</td>\n",
       "      <td>0.326881</td>\n",
       "      <td>11.0</td>\n",
       "      <td>3650.510777</td>\n",
       "      <td>3.048201</td>\n",
       "      <td>2.990454</td>\n",
       "      <td>7515.277844</td>\n",
       "      <td>-473.498352</td>\n",
       "      <td>72.113640</td>\n",
       "      <td>987.183441</td>\n",
       "      <td>-0.279665</td>\n",
       "      <td>0.026194</td>\n",
       "      <td>1.982109</td>\n",
       "      <td>0.0</td>\n",
       "    </tr>\n",
       "    <tr>\n",
       "      <th>107594</th>\n",
       "      <td>1.0</td>\n",
       "      <td>3.312447</td>\n",
       "      <td>0.473207</td>\n",
       "      <td>12.0</td>\n",
       "      <td>5407.733878</td>\n",
       "      <td>-0.383617</td>\n",
       "      <td>-0.641921</td>\n",
       "      <td>7846.294837</td>\n",
       "      <td>1846.411499</td>\n",
       "      <td>-1380.256226</td>\n",
       "      <td>2253.172644</td>\n",
       "      <td>0.425024</td>\n",
       "      <td>-0.171545</td>\n",
       "      <td>1.522104</td>\n",
       "      <td>1.0</td>\n",
       "    </tr>\n",
       "    <tr>\n",
       "      <th>20062</th>\n",
       "      <td>1.0</td>\n",
       "      <td>6.298290</td>\n",
       "      <td>1.049715</td>\n",
       "      <td>11.0</td>\n",
       "      <td>18952.367921</td>\n",
       "      <td>0.561186</td>\n",
       "      <td>1.585557</td>\n",
       "      <td>7501.977827</td>\n",
       "      <td>-2.542572</td>\n",
       "      <td>172.234894</td>\n",
       "      <td>861.705409</td>\n",
       "      <td>0.038533</td>\n",
       "      <td>0.024222</td>\n",
       "      <td>3.783401</td>\n",
       "      <td>1.0</td>\n",
       "    </tr>\n",
       "  </tbody>\n",
       "</table>\n",
       "</div>"
      ],
      "text/plain": [
       "        track_charge  track_chi2  track_chi2PerDoF  track_nLHCbIDs  \\\n",
       "59643            1.0    9.587655          1.369665            12.0   \n",
       "5930             1.0    1.495675          0.249279            11.0   \n",
       "98685           -1.0    1.961287          0.326881            11.0   \n",
       "107594           1.0    3.312447          0.473207            12.0   \n",
       "20062            1.0    6.298290          1.049715            11.0   \n",
       "\n",
       "             track_p  track_phi  track_position_phi  track_position_r  \\\n",
       "59643   25970.632245  -0.302944           -0.620018       7502.604740   \n",
       "5930    15212.508819   0.252898            0.463829       7515.511777   \n",
       "98685    3650.510777   3.048201            2.990454       7515.277844   \n",
       "107594   5407.733878  -0.383617           -0.641921       7846.294837   \n",
       "20062   18952.367921   0.561186            1.585557       7501.977827   \n",
       "\n",
       "        track_position_x  track_position_y     track_pt  track_tx  track_ty  \\\n",
       "59643         160.886444       -114.862663  1358.483930  0.049995 -0.015627   \n",
       "5930          431.624878        215.910248  1709.491675  0.109493  0.028296   \n",
       "98685        -473.498352         72.113640   987.183441 -0.279665  0.026194   \n",
       "107594       1846.411499      -1380.256226  2253.172644  0.425024 -0.171545   \n",
       "20062          -2.542572        172.234894   861.705409  0.038533  0.024222   \n",
       "\n",
       "        track_pseudoRapidity  particle_isDown  \n",
       "59643               3.643059              1.0  \n",
       "5930                2.875897              1.0  \n",
       "98685               1.982109              0.0  \n",
       "107594              1.522104              1.0  \n",
       "20062               3.783401              1.0  "
      ]
     },
     "execution_count": 7,
     "metadata": {},
     "output_type": "execute_result"
    }
   ],
   "source": [
    "featuresF.head(5)"
   ]
  },
  {
   "cell_type": "code",
   "execution_count": 8,
   "metadata": {},
   "outputs": [
    {
     "data": {
      "image/png": "[encoded data removed]",
      "text/plain": [
       "<Figure size 432x288 with 1 Axes>"
      ]
     },
     "metadata": {
      "needs_background": "light"
     },
     "output_type": "display_data"
    }
   ],
   "source": [
    "drawPlot(\"track_chi2\", 150, 25)"
   ]
  },
  {
   "cell_type": "code",
   "execution_count": 9,
   "metadata": {},
   "outputs": [
    {
     "data": {
      "image/png": "[encoded data removed]",
      "text/plain": [
       "<Figure size 432x288 with 1 Axes>"
      ]
     },
     "metadata": {
      "needs_background": "light"
     },
     "output_type": "display_data"
    }
   ],
   "source": [
    "drawPlot(\"track_chi2PerDoF\", 150 , 4)"
   ]
  },
  {
   "cell_type": "code",
   "execution_count": 10,
   "metadata": {},
   "outputs": [
    {
     "data": {
      "image/png": "[encoded data removed]",
      "text/plain": [
       "<Figure size 432x288 with 1 Axes>"
      ]
     },
     "metadata": {
      "needs_background": "light"
     },
     "output_type": "display_data"
    }
   ],
   "source": [
    "drawPlot(\"track_nLHCbIDs\", 6, 13, 7)"
   ]
  },
  {
   "cell_type": "code",
   "execution_count": 11,
   "metadata": {},
   "outputs": [
    {
     "data": {
      "image/png": "[encoded data removed]",
      "text/plain": [
       "<Figure size 432x288 with 1 Axes>"
      ]
     },
     "metadata": {
      "needs_background": "light"
     },
     "output_type": "display_data"
    }
   ],
   "source": [
    "drawPlot(\"track_p\", 150, 55000, 500)"
   ]
  },
  {
   "cell_type": "code",
   "execution_count": 12,
   "metadata": {},
   "outputs": [
    {
     "data": {
      "image/png": "[encoded data removed]",
      "text/plain": [
       "<Figure size 432x288 with 1 Axes>"
      ]
     },
     "metadata": {
      "needs_background": "light"
     },
     "output_type": "display_data"
    }
   ],
   "source": [
    "drawPlot(\"track_pt\", 100, 8000)"
   ]
  },
  {
   "cell_type": "code",
   "execution_count": 13,
   "metadata": {},
   "outputs": [
    {
     "data": {
      "image/png": "[encoded data removed]",
      "text/plain": [
       "<Figure size 432x288 with 1 Axes>"
      ]
     },
     "metadata": {
      "needs_background": "light"
     },
     "output_type": "display_data"
    }
   ],
   "source": [
    "drawPlot(\"track_phi\", 100)"
   ]
  },
  {
   "cell_type": "code",
   "execution_count": 14,
   "metadata": {},
   "outputs": [
    {
     "data": {
      "image/png": "[encoded data removed]",
      "text/plain": [
       "<Figure size 432x288 with 1 Axes>"
      ]
     },
     "metadata": {
      "needs_background": "light"
     },
     "output_type": "display_data"
    }
   ],
   "source": [
    "drawPlot(\"track_position_phi\", 100)"
   ]
  },
  {
   "cell_type": "code",
   "execution_count": 15,
   "metadata": {},
   "outputs": [
    {
     "data": {
      "image/png": "[encoded data removed]",
      "text/plain": [
       "<Figure size 432x288 with 1 Axes>"
      ]
     },
     "metadata": {
      "needs_background": "light"
     },
     "output_type": "display_data"
    },
    {
     "data": {
      "image/png": "[encoded data removed]",
      "text/plain": [
       "<Figure size 432x288 with 1 Axes>"
      ]
     },
     "metadata": {
      "needs_background": "light"
     },
     "output_type": "display_data"
    },
    {
     "data": {
      "image/png": "[encoded data removed]",
      "text/plain": [
       "<Figure size 432x288 with 1 Axes>"
      ]
     },
     "metadata": {
      "needs_background": "light"
     },
     "output_type": "display_data"
    },
    {
     "data": {
      "image/png": "[encoded data removed]",
      "text/plain": [
       "<Figure size 432x288 with 1 Axes>"
      ]
     },
     "metadata": {
      "needs_background": "light"
     },
     "output_type": "display_data"
    }
   ],
   "source": [
    "drawPlot(\"track_position_x\", 200)\n",
    "drawPlot(\"track_position_y\", 200)\n",
    "drawPlot(\"track_tx\", 200)\n",
    "drawPlot(\"track_ty\", 200)"
   ]
  },
  {
   "cell_type": "code",
   "execution_count": 16,
   "metadata": {},
   "outputs": [
    {
     "data": {
      "image/png": "[encoded data removed]",
      "text/plain": [
       "<Figure size 432x288 with 1 Axes>"
      ]
     },
     "metadata": {
      "needs_background": "light"
     },
     "output_type": "display_data"
    },
    {
     "data": {
      "image/png": "[encoded data removed]",
      "text/plain": [
       "<Figure size 432x288 with 1 Axes>"
      ]
     },
     "metadata": {
      "needs_background": "light"
     },
     "output_type": "display_data"
    }
   ],
   "source": [
    "drawPlot(\"track_position_r\", 200, 7850, 7500)\n",
    "drawPlot(\"track_pseudoRapidity\", 200, 7)"
   ]
  },
  {
   "cell_type": "code",
   "execution_count": 17,
   "metadata": {},
   "outputs": [
    {
     "data": {
      "image/png": "[encoded data removed]",
      "text/plain": [
       "<Figure size 432x288 with 2 Axes>"
      ]
     },
     "metadata": {
      "needs_background": "light"
     },
     "output_type": "display_data"
    }
   ],
   "source": [
    "corr = featuresT.corr()\n",
    "fig = plt.figure()\n",
    "ax = fig.add_subplot(111)\n",
    "cax = ax.matshow(corr,cmap='coolwarm', vmin=-1, vmax=1)\n",
    "fig.colorbar(cax)\n",
    "ticks = np.arange(0,len(featuresT.columns),1)\n",
    "ax.set_xticks(ticks)\n",
    "plt.xticks(rotation=90)\n",
    "ax.set_yticks(ticks)\n",
    "ax.set_xticklabels(featuresT.columns)\n",
    "ax.set_yticklabels(featuresT.columns)\n",
    "plt.show()"
   ]
  },
  {
   "cell_type": "code",
   "execution_count": 18,
   "metadata": {},
   "outputs": [
    {
     "data": {
      "image/png": "[encoded data removed]",
      "text/plain": [
       "<Figure size 432x288 with 2 Axes>"
      ]
     },
     "metadata": {
      "needs_background": "light"
     },
     "output_type": "display_data"
    }
   ],
   "source": [
    "corr = featuresF.corr()\n",
    "fig = plt.figure()\n",
    "ax = fig.add_subplot(111)\n",
    "cax = ax.matshow(corr,cmap='coolwarm', vmin=-1, vmax=1)\n",
    "fig.colorbar(cax)\n",
    "ticks = np.arange(0,len(featuresF.columns),1)\n",
    "ax.set_xticks(ticks)\n",
    "plt.xticks(rotation=90)\n",
    "ax.set_yticks(ticks)\n",
    "ax.set_xticklabels(featuresF.columns)\n",
    "ax.set_yticklabels(featuresF.columns)\n",
    "plt.show()"
   ]
  }
 ],
 "metadata": {
  "kernelspec": {
   "display_name": "Python 3",
   "language": "python",
   "name": "python3"
  },
  "language_info": {
   "codemirror_mode": {
    "name": "ipython",
    "version": 3
   },
   "file_extension": ".py",
   "mimetype": "text/x-python",
   "name": "python",
   "nbconvert_exporter": "python",
   "pygments_lexer": "ipython3",
   "version": "3.6.8"
  }
 },
 "nbformat": 4,
 "nbformat_minor": 2
}

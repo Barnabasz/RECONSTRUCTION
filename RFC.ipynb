{
 "cells": [
  {
   "cell_type": "code",
   "execution_count": 1,
   "metadata": {
    "colab": {},
    "colab_type": "code",
    "id": "Oi02zvb1sbst"
   },
   "outputs": [],
   "source": [
    "import numpy as np\n",
    "import pandas as pd\n",
    "import matplotlib.pyplot as plt\n",
    "from sklearn.metrics import confusion_matrix, classification_report, roc_curve, auc\n",
    "from sklearn.model_selection import train_test_split, GridSearchCV, RandomizedSearchCV\n",
    "from sklearn.ensemble import RandomForestClassifier\n",
    "from sklearn.preprocessing import StandardScaler\n",
    "from sklearn.neighbors import KNeighborsClassifier\n",
    "from sklearn.neural_network import MLPClassifier"
   ]
  },
  {
   "cell_type": "code",
   "execution_count": 27,
   "metadata": {
    "colab": {},
    "colab_type": "code",
    "id": "oZDZYgccAOf7"
   },
   "outputs": [],
   "source": [
    "train_data_file = \"~/data2.csv\"\n",
    "data = pd.read_csv(train_data_file)\n",
    "features = data.drop([\"Unnamed: 0\", \"eventID\", \"track_particle_key\", \"track_position_z\", \"track_ghostProbability\", \"track_chi2\", \"track_phi\", \"track_position_phi\"] , axis=1).astype(np.float64)\n",
    "isDown = data.particle_isDown.values.astype(np.float64)\n",
    "noVelo = data.particle_isDown_noVelo.values.astype(np.float64)\n",
    "features = features.drop([\"particle_isDown_noVelo\", \"particle_isDown\", features.columns[0]], axis=1).values\n",
    "d=isDown.sum()\n",
    "v=noVelo.sum()\n",
    "zipped=(zip(isDown, noVelo))\n",
    "targets = np.array([(down==1 and velo==1) for down, velo in zipped]).astype(np.float64)"
   ]
  },
  {
   "cell_type": "code",
   "execution_count": 28,
   "metadata": {
    "colab": {},
    "colab_type": "code",
    "id": "wPop75UWA0M_"
   },
   "outputs": [],
   "source": [
    "X_train, X_test, y_train, y_test = train_test_split(features, targets, test_size = 0.2)"
   ]
  },
  {
   "cell_type": "markdown",
   "metadata": {
    "colab_type": "text",
    "id": "NxzanazPPort"
   },
   "source": [
    "**RandomForestClassifier**"
   ]
  },
  {
   "cell_type": "code",
   "execution_count": 35,
   "metadata": {
    "colab": {},
    "colab_type": "code",
    "id": "FwDAxA2RTKH2"
   },
   "outputs": [],
   "source": [
    "RFC = RandomForestClassifier(1500, max_depth = 12)"
   ]
  },
  {
   "cell_type": "code",
   "execution_count": 36,
   "metadata": {
    "colab": {},
    "colab_type": "code",
    "id": "vevV4jm2TU7i"
   },
   "outputs": [],
   "source": [
    "RFC.fit(X_train, y_train)\n",
    "pred_RFC = RFC.predict(X_test)"
   ]
  },
  {
   "cell_type": "code",
   "execution_count": 37,
   "metadata": {
    "colab": {
     "base_uri": "https://localhost:8080/",
     "height": 204
    },
    "colab_type": "code",
    "executionInfo": {
     "elapsed": 395875,
     "status": "ok",
     "timestamp": 1565542868246,
     "user": {
      "displayName": "Kamil Hałat",
      "photoUrl": "https://lh5.googleusercontent.com/-cEVrUf-GQlk/AAAAAAAAAAI/AAAAAAAAADQ/2bRhdGnkBHU/s64/photo.jpg",
      "userId": "13173755326155105568"
     },
     "user_tz": -120
    },
    "id": "3RLWJBcTVFr1",
    "outputId": "3c54a247-3bd2-4928-ed5a-b788724b338c"
   },
   "outputs": [
    {
     "name": "stdout",
     "output_type": "stream",
     "text": [
      "              precision    recall  f1-score   support\n",
      "\n",
      "         0.0       0.86      1.00      0.92     26982\n",
      "         1.0       0.00      0.00      0.00      4515\n",
      "\n",
      "    accuracy                           0.86     31497\n",
      "   macro avg       0.43      0.50      0.46     31497\n",
      "weighted avg       0.73      0.86      0.79     31497\n",
      "\n",
      "[[26980     2]\n",
      " [ 4515     0]]\n"
     ]
    }
   ],
   "source": [
    "print(classification_report(y_test, pred_RFC))\n",
    "print(confusion_matrix(y_test, pred_RFC))\n"
   ]
  },
  {
   "cell_type": "code",
   "execution_count": 38,
   "metadata": {
    "colab": {},
    "colab_type": "code",
    "id": "OvWYF5-ToQCW"
   },
   "outputs": [],
   "source": [
    "proba = RFC.predict_proba(X_test)\n",
    "fpr, tpr, thresholds = roc_curve(y_test, proba[:,1])"
   ]
  },
  {
   "cell_type": "code",
   "execution_count": 33,
   "metadata": {
    "colab": {},
    "colab_type": "code",
    "id": "kObW9JW4u38W"
   },
   "outputs": [],
   "source": [
    "def plot_roc(fpr, tpr):\n",
    "  plt.figure()\n",
    "  lw = 2\n",
    "  plt.plot(fpr, tpr, color='darkorange',\n",
    "           lw=lw, label='ROC curve (area = %0.2f)' % auc(fpr, tpr))\n",
    "  plt.plot([0, 1], [0, 1], color='navy', lw=lw, linestyle='--')\n",
    "  plt.xlim([0.0, 1.0])\n",
    "  plt.ylim([0.0, 1.05])\n",
    "  plt.xlabel('False Positive Rate')\n",
    "  plt.ylabel('True Positive Rate')\n",
    "  plt.title('Receiver operating characteristic')\n",
    "  plt.legend(loc=\"lower right\")\n",
    "  plt.show()"
   ]
  },
  {
   "cell_type": "code",
   "execution_count": 39,
   "metadata": {
    "colab": {
     "base_uri": "https://localhost:8080/",
     "height": 295
    },
    "colab_type": "code",
    "executionInfo": {
     "elapsed": 12068,
     "status": "ok",
     "timestamp": 1565542876071,
     "user": {
      "displayName": "Kamil Hałat",
      "photoUrl": "https://lh5.googleusercontent.com/-cEVrUf-GQlk/AAAAAAAAAAI/AAAAAAAAADQ/2bRhdGnkBHU/s64/photo.jpg",
      "userId": "13173755326155105568"
     },
     "user_tz": -120
    },
    "id": "mO2KRNycFLyb",
    "outputId": "c8c17bb7-b828-4d6d-acdc-300c9549363c"
   },
   "outputs": [
    {
     "data": {
      "image/png": "[encoded data removed]",
      "text/plain": [
       "<Figure size 432x288 with 1 Axes>"
      ]
     },
     "metadata": {
      "needs_background": "light"
     },
     "output_type": "display_data"
    }
   ],
   "source": [
    "plot_roc(fpr, tpr)"
   ]
  },
  {
   "cell_type": "code",
   "execution_count": 10,
   "metadata": {
    "colab": {},
    "colab_type": "code",
    "id": "LotkzhNTGLhn"
   },
   "outputs": [],
   "source": [
    "param_grid = {\n",
    "    'max_depth': [16, 20],\n",
    "    'n_estimators': [60, 100, 200, 500, 1000]\n",
    "}\n",
    "RFCGS = RandomForestClassifier()"
   ]
  },
  {
   "cell_type": "code",
   "execution_count": 11,
   "metadata": {
    "colab": {},
    "colab_type": "code",
    "id": "iEJYEIV_Gnw7"
   },
   "outputs": [],
   "source": [
    "grid_search = GridSearchCV(estimator = RFCGS, param_grid = param_grid, cv = 3, n_jobs = -1, verbose = 2)"
   ]
  },
  {
   "cell_type": "code",
   "execution_count": 12,
   "metadata": {
    "colab": {},
    "colab_type": "code",
    "id": "syD3cX5OOXDk"
   },
   "outputs": [],
   "source": [
    "def evaluate(model, X_test, y_test):\n",
    "    predictions = model.predict(X_test)\n",
    "    print(classification_report(y_test, predictions))"
   ]
  },
  {
   "cell_type": "code",
   "execution_count": 14,
   "metadata": {
    "colab": {
     "base_uri": "https://localhost:8080/",
     "height": 425
    },
    "colab_type": "code",
    "executionInfo": {
     "elapsed": 1200407,
     "status": "ok",
     "timestamp": 1565544067806,
     "user": {
      "displayName": "Kamil Hałat",
      "photoUrl": "https://lh5.googleusercontent.com/-cEVrUf-GQlk/AAAAAAAAAAI/AAAAAAAAADQ/2bRhdGnkBHU/s64/photo.jpg",
      "userId": "13173755326155105568"
     },
     "user_tz": -120
    },
    "id": "UUmHDs-4G3Qx",
    "outputId": "27190a40-8e54-4f8b-a570-93f63f73ecbd"
   },
   "outputs": [
    {
     "name": "stdout",
     "output_type": "stream",
     "text": [
      "Fitting 3 folds for each of 10 candidates, totalling 30 fits\n"
     ]
    },
    {
     "name": "stderr",
     "output_type": "stream",
     "text": [
      "[Parallel(n_jobs=-1)]: Using backend LokyBackend with 40 concurrent workers.\n",
      "[Parallel(n_jobs=-1)]: Done  15 out of  30 | elapsed:  1.1min remaining:  1.1min\n",
      "[Parallel(n_jobs=-1)]: Done  30 out of  30 | elapsed:  5.2min finished\n"
     ]
    },
    {
     "data": {
      "text/plain": [
       "GridSearchCV(cv=3, error_score='raise-deprecating',\n",
       "             estimator=RandomForestClassifier(bootstrap=True, class_weight=None,\n",
       "                                              criterion='gini', max_depth=None,\n",
       "                                              max_features='auto',\n",
       "                                              max_leaf_nodes=None,\n",
       "                                              min_impurity_decrease=0.0,\n",
       "                                              min_impurity_split=None,\n",
       "                                              min_samples_leaf=1,\n",
       "                                              min_samples_split=2,\n",
       "                                              min_weight_fraction_leaf=0.0,\n",
       "                                              n_estimators='warn', n_jobs=None,\n",
       "                                              oob_score=False,\n",
       "                                              random_state=None, verbose=0,\n",
       "                                              warm_start=False),\n",
       "             iid='warn', n_jobs=-1,\n",
       "             param_grid={'max_depth': [16, 20],\n",
       "                         'n_estimators': [60, 100, 200, 500, 1000]},\n",
       "             pre_dispatch='2*n_jobs', refit=True, return_train_score=False,\n",
       "             scoring=None, verbose=2)"
      ]
     },
     "execution_count": 14,
     "metadata": {},
     "output_type": "execute_result"
    }
   ],
   "source": [
    "grid_search.fit(X_train, y_train)"
   ]
  },
  {
   "cell_type": "code",
   "execution_count": 15,
   "metadata": {
    "colab": {
     "base_uri": "https://localhost:8080/",
     "height": 34
    },
    "colab_type": "code",
    "executionInfo": {
     "elapsed": 1199036,
     "status": "ok",
     "timestamp": 1565544067813,
     "user": {
      "displayName": "Kamil Hałat",
      "photoUrl": "https://lh5.googleusercontent.com/-cEVrUf-GQlk/AAAAAAAAAAI/AAAAAAAAADQ/2bRhdGnkBHU/s64/photo.jpg",
      "userId": "13173755326155105568"
     },
     "user_tz": -120
    },
    "id": "fIj9Az60N3m4",
    "outputId": "6a57657c-a1aa-44cc-8fc7-00f5ec2cee3a"
   },
   "outputs": [
    {
     "data": {
      "text/plain": [
       "{'max_depth': 20, 'n_estimators': 500}"
      ]
     },
     "execution_count": 15,
     "metadata": {},
     "output_type": "execute_result"
    }
   ],
   "source": [
    "grid_search.best_params_"
   ]
  },
  {
   "cell_type": "code",
   "execution_count": 16,
   "metadata": {
    "colab": {
     "base_uri": "https://localhost:8080/",
     "height": 170
    },
    "colab_type": "code",
    "executionInfo": {
     "elapsed": 1203564,
     "status": "ok",
     "timestamp": 1565544072916,
     "user": {
      "displayName": "Kamil Hałat",
      "photoUrl": "https://lh5.googleusercontent.com/-cEVrUf-GQlk/AAAAAAAAAAI/AAAAAAAAADQ/2bRhdGnkBHU/s64/photo.jpg",
      "userId": "13173755326155105568"
     },
     "user_tz": -120
    },
    "id": "X5XCjaeAOK1T",
    "outputId": "cf96acde-08ce-45c1-da19-202bf8ef2e55"
   },
   "outputs": [
    {
     "name": "stdout",
     "output_type": "stream",
     "text": [
      "              precision    recall  f1-score   support\n",
      "\n",
      "         0.0       0.85      0.65      0.74     13687\n",
      "         1.0       0.77      0.91      0.84     17810\n",
      "\n",
      "    accuracy                           0.80     31497\n",
      "   macro avg       0.81      0.78      0.79     31497\n",
      "weighted avg       0.81      0.80      0.79     31497\n",
      "\n"
     ]
    }
   ],
   "source": [
    "best_grid = grid_search.best_estimator_\n",
    "evaluate(best_grid, X_test, y_test)"
   ]
  },
  {
   "cell_type": "code",
   "execution_count": 17,
   "metadata": {
    "colab": {
     "base_uri": "https://localhost:8080/",
     "height": 295
    },
    "colab_type": "code",
    "executionInfo": {
     "elapsed": 1207519,
     "status": "ok",
     "timestamp": 1565544078479,
     "user": {
      "displayName": "Kamil Hałat",
      "photoUrl": "https://lh5.googleusercontent.com/-cEVrUf-GQlk/AAAAAAAAAAI/AAAAAAAAADQ/2bRhdGnkBHU/s64/photo.jpg",
      "userId": "13173755326155105568"
     },
     "user_tz": -120
    },
    "id": "fZIo1DSsFTmt",
    "outputId": "5f0ec81c-df00-48eb-8231-5f22e98c37d0"
   },
   "outputs": [
    {
     "data": {
      "image/png": "[encoded data removed]",
      "text/plain": [
       "<Figure size 432x288 with 1 Axes>"
      ]
     },
     "metadata": {
      "needs_background": "light"
     },
     "output_type": "display_data"
    }
   ],
   "source": [
    "proba = best_grid.predict_proba(X_test)\n",
    "fpr, tpr, thresholds = roc_curve(y_test, proba[:,1])\n",
    "plot_roc(fpr, tpr)"
   ]
  },
  {
   "cell_type": "code",
   "execution_count": 18,
   "metadata": {
    "colab": {},
    "colab_type": "code",
    "id": "ITtFgOH-jpS-"
   },
   "outputs": [],
   "source": [
    "RFCRS = RandomForestClassifier()\n",
    "random_grid = {\n",
    "    'criterion': [\"entropy\", \"gini\"],\n",
    "    'max_depth': [12, 16, 20],\n",
    "    'n_estimators': [100, 200, 500, 800, 1200, 1400, 1600]\n",
    "}"
   ]
  },
  {
   "cell_type": "code",
   "execution_count": 19,
   "metadata": {
    "colab": {},
    "colab_type": "code",
    "id": "SafAUDcfitWv"
   },
   "outputs": [],
   "source": [
    "random_search = RandomizedSearchCV(estimator = RFCRS, param_distributions = random_grid, n_iter = 100, cv = 3, verbose=2, random_state=42, n_jobs = -1)"
   ]
  },
  {
   "cell_type": "code",
   "execution_count": null,
   "metadata": {
    "colab": {
     "base_uri": "https://localhost:8080/"
    },
    "colab_type": "code",
    "executionInfo": {
     "elapsed": 8944720,
     "status": "ok",
     "timestamp": 1565488575805,
     "user": {
      "displayName": "Kamil Hałat",
      "photoUrl": "https://lh5.googleusercontent.com/-cEVrUf-GQlk/AAAAAAAAAAI/AAAAAAAAADQ/2bRhdGnkBHU/s64/photo.jpg",
      "userId": "13173755326155105568"
     },
     "user_tz": -120
    },
    "id": "4D4OlUVqlaJC",
    "outputId": "97bc1a0e-9ffe-4d87-f091-1a3c987d4604"
   },
   "outputs": [
    {
     "name": "stdout",
     "output_type": "stream",
     "text": [
      "Fitting 3 folds for each of 42 candidates, totalling 126 fits\n"
     ]
    },
    {
     "name": "stderr",
     "output_type": "stream",
     "text": [
      "/home/halaka/pytorch-env/lib64/python3.6/site-packages/sklearn/model_selection/_search.py:266: UserWarning: The total space of parameters 42 is smaller than n_iter=100. Running 42 iterations. For exhaustive searches, use GridSearchCV.\n",
      "  % (grid_size, self.n_iter, grid_size), UserWarning)\n",
      "[Parallel(n_jobs=-1)]: Using backend LokyBackend with 40 concurrent workers.\n",
      "[Parallel(n_jobs=-1)]: Done 111 out of 126 | elapsed: 28.8min remaining:  3.9min\n",
      "[Parallel(n_jobs=-1)]: Done 126 out of 126 | elapsed: 32.3min finished\n"
     ]
    }
   ],
   "source": [
    "random_search.fit(X_train, y_train)"
   ]
  },
  {
   "cell_type": "code",
   "execution_count": 24,
   "metadata": {
    "colab": {},
    "colab_type": "code",
    "id": "0Vy422E75kfT"
   },
   "outputs": [
    {
     "data": {
      "text/plain": [
       "{'n_estimators': 1600, 'max_depth': 20, 'criterion': 'entropy'}"
      ]
     },
     "execution_count": 24,
     "metadata": {},
     "output_type": "execute_result"
    }
   ],
   "source": [
    "random_search.best_params_"
   ]
  },
  {
   "cell_type": "code",
   "execution_count": 25,
   "metadata": {
    "colab": {},
    "colab_type": "code",
    "id": "VdMhuABp55FQ"
   },
   "outputs": [
    {
     "name": "stdout",
     "output_type": "stream",
     "text": [
      "              precision    recall  f1-score   support\n",
      "\n",
      "         0.0       0.85      0.65      0.74     13687\n",
      "         1.0       0.77      0.92      0.84     17810\n",
      "\n",
      "    accuracy                           0.80     31497\n",
      "   macro avg       0.81      0.78      0.79     31497\n",
      "weighted avg       0.81      0.80      0.79     31497\n",
      "\n"
     ]
    }
   ],
   "source": [
    "best_grid_random = random_search.best_estimator_\n",
    "evaluate(best_grid_random, X_test, y_test)"
   ]
  },
  {
   "cell_type": "code",
   "execution_count": 26,
   "metadata": {
    "colab": {},
    "colab_type": "code",
    "id": "l_czO0xVFXSK"
   },
   "outputs": [
    {
     "data": {
      "image/png": "[encoded data removed]",
      "text/plain": [
       "<Figure size 432x288 with 1 Axes>"
      ]
     },
     "metadata": {
      "needs_background": "light"
     },
     "output_type": "display_data"
    }
   ],
   "source": [
    "proba = best_grid_random.predict_proba(X_test)\n",
    "fpr, tpr, thresholds = roc_curve(y_test, proba[:,1])\n",
    "plot_roc(fpr, tpr)"
   ]
  },
  {
   "cell_type": "code",
   "execution_count": null,
   "metadata": {},
   "outputs": [],
   "source": []
  }
 ],
 "metadata": {
  "colab": {
   "collapsed_sections": [],
   "name": "RFC.ipynb",
   "provenance": [],
   "version": "0.3.2"
  },
  "kernelspec": {
   "display_name": "pytorch-env",
   "language": "python",
   "name": "pytorch-env"
  },
  "language_info": {
   "codemirror_mode": {
    "name": "ipython",
    "version": 3
   },
   "file_extension": ".py",
   "mimetype": "text/x-python",
   "name": "python",
   "nbconvert_exporter": "python",
   "pygments_lexer": "ipython3",
   "version": "3.6.8"
  }
 },
 "nbformat": 4,
 "nbformat_minor": 1
}
